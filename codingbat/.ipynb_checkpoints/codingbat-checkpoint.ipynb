{
 "cells": [
  {
   "cell_type": "markdown",
   "metadata": {},
   "source": [
    "https://codingbat.com/python"
   ]
  },
  {
   "cell_type": "markdown",
   "metadata": {},
   "source": [
    "## Logic-2 - make_bricks"
   ]
  },
  {
   "cell_type": "code",
   "execution_count": 1,
   "metadata": {},
   "outputs": [],
   "source": [
    "def make_bricks(small, big, goal):\n",
    "    if small + big * 5 == goal:\n",
    "        return True\n",
    "    elif goal % 5 == 0 and goal / 5 <= big:\n",
    "        return True\n",
    "    elif goal % 5 <= small and (goal - goal % 5) / 5 <= big:\n",
    "        return True \n",
    "    elif goal % 5 <= small and goal <= small + big * 5:\n",
    "        return True\n",
    "    else:\n",
    "        return False"
   ]
  },
  {
   "cell_type": "code",
   "execution_count": 4,
   "metadata": {},
   "outputs": [],
   "source": [
    "def make_chocolate(small, big, goal):\n",
    "    if small + big * 5 == goal:\n",
    "        return small\n",
    "    elif goal % 5 == 0 and goal / 5 <= big:\n",
    "        return 0\n",
    "    elif goal % 5 <= small and (goal - goal % 5) / 5 <= big:\n",
    "        return goal % 5\n",
    "    elif goal % 5 <= small and goal <= small + big * 5:\n",
    "        return goal - big * 5\n",
    "    else:\n",
    "        return -1"
   ]
  }
 ],
 "metadata": {
  "kernelspec": {
   "display_name": "Python 3",
   "language": "python",
   "name": "python3"
  },
  "language_info": {
   "codemirror_mode": {
    "name": "ipython",
    "version": 3
   },
   "file_extension": ".py",
   "mimetype": "text/x-python",
   "name": "python",
   "nbconvert_exporter": "python",
   "pygments_lexer": "ipython3",
   "version": "3.6.2"
  }
 },
 "nbformat": 4,
 "nbformat_minor": 4
}
