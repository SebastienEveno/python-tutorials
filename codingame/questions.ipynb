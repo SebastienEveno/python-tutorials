{
 "metadata": {
  "language_info": {
   "codemirror_mode": {
    "name": "ipython",
    "version": 3
   },
   "file_extension": ".py",
   "mimetype": "text/x-python",
   "name": "python",
   "nbconvert_exporter": "python",
   "pygments_lexer": "ipython3",
   "version": "3.9.0-final"
  },
  "orig_nbformat": 2,
  "kernelspec": {
   "name": "python390jvsc74a57bd02740b07bebd5a9538dcad413d55b5f8f7bc0dae380b851836f69cf85491ff86f",
   "display_name": "Python 3.9.0 64-bit"
  },
  "metadata": {
   "interpreter": {
    "hash": "2740b07bebd5a9538dcad413d55b5f8f7bc0dae380b851836f69cf85491ff86f"
   }
  }
 },
 "nbformat": 4,
 "nbformat_minor": 2,
 "cells": [
  {
   "source": [
    "## Question 1"
   ],
   "cell_type": "markdown",
   "metadata": {}
  },
  {
   "cell_type": "code",
   "execution_count": 10,
   "metadata": {},
   "outputs": [],
   "source": [
    "import math\n",
    "def process(str: s):\n",
    "    res = \"\"\n",
    "    res_final = \"\"\n",
    "    for char in s:\n",
    "        if res == \"\":\n",
    "            res += char\n",
    "        if char > res[-1]:\n",
    "            res += char\n",
    "        else:\n",
    "            if len(res) > len(res_final):\n",
    "                res_final = res\n",
    "            res = char\n",
    "    print(res_final)"
   ]
  },
  {
   "cell_type": "code",
   "execution_count": 18,
   "metadata": {},
   "outputs": [
    {
     "output_type": "stream",
     "name": "stdout",
     "text": [
      "adef\n"
     ]
    }
   ],
   "source": [
    "s = \"teadefaopbcoa\"\n",
    "process(s)"
   ]
  },
  {
   "source": [
    "## Question 2"
   ],
   "cell_type": "markdown",
   "metadata": {}
  },
  {
   "cell_type": "code",
   "execution_count": 25,
   "metadata": {},
   "outputs": [],
   "source": [
    "import datetime\n",
    "\n",
    "def nextWeek(d):\n",
    "    return d + datetime.timedelta(days=7)"
   ]
  },
  {
   "cell_type": "code",
   "execution_count": 35,
   "metadata": {},
   "outputs": [
    {
     "output_type": "execute_result",
     "data": {
      "text/plain": [
       "datetime.date(2021, 7, 17)"
      ]
     },
     "metadata": {},
     "execution_count": 35
    }
   ],
   "source": [
    "d = datetime.date.today()\n",
    "nextWeek(d)"
   ]
  },
  {
   "source": [
    "## Question 3"
   ],
   "cell_type": "markdown",
   "metadata": {}
  },
  {
   "cell_type": "code",
   "execution_count": null,
   "metadata": {},
   "outputs": [],
   "source": [
    "import os\n",
    "\n",
    "def find():\n",
    "    for root, dirs, files in os.walk(\"/tmp/documents\"):\n",
    "        if \"universe-formula\" in files:\n",
    "            return os.path.join(root, \"universe-formula\")\n",
    "        else:\n",
    "            return None"
   ]
  },
  {
   "source": [
    "## Question 4"
   ],
   "cell_type": "markdown",
   "metadata": {}
  },
  {
   "cell_type": "code",
   "execution_count": 36,
   "metadata": {},
   "outputs": [],
   "source": [
    "def count(n):\n",
    "    f = math.factorial\n",
    "    return f(n) // f(2) // f(n -2)"
   ]
  },
  {
   "source": [
    "## Question 5"
   ],
   "cell_type": "markdown",
   "metadata": {}
  },
  {
   "cell_type": "code",
   "execution_count": 42,
   "metadata": {},
   "outputs": [],
   "source": [
    "def pi_approx(pts):\n",
    "    counter = 0\n",
    "    for elt in pts:\n",
    "        if elt[0] ** 2 + elt[1] ** 2 <= 1:\n",
    "            counter += 1\n",
    "    return counter / len(pts) * 4"
   ]
  },
  {
   "cell_type": "code",
   "execution_count": 44,
   "metadata": {},
   "outputs": [
    {
     "output_type": "execute_result",
     "data": {
      "text/plain": [
       "3.14012"
      ]
     },
     "metadata": {},
     "execution_count": 44
    }
   ],
   "source": [
    "import random\n",
    "rands = []\n",
    "for i in range(0, 100000):\n",
    "    arr = [random.random(), random.random()]\n",
    "    rands.append(arr)\n",
    "pi_approx(rands)"
   ]
  },
  {
   "source": [
    "## Question 6"
   ],
   "cell_type": "markdown",
   "metadata": {}
  },
  {
   "cell_type": "code",
   "execution_count": 56,
   "metadata": {},
   "outputs": [],
   "source": [
    "def closest_to_zero(ints):\n",
    "    if ints is None:\n",
    "        return 0\n",
    "\n",
    "    d = max([abs(x) for x in ints])\n",
    "    closest = 0\n",
    "    for elt in ints:\n",
    "        if abs(elt) == d:\n",
    "            if elt >= 0:\n",
    "                closest = elt\n",
    "        if abs(elt) < d:\n",
    "            d = abs(elt)\n",
    "            closest = elt\n",
    "    return closest"
   ]
  },
  {
   "cell_type": "code",
   "execution_count": 57,
   "metadata": {},
   "outputs": [
    {
     "output_type": "execute_result",
     "data": {
      "text/plain": [
       "2"
      ]
     },
     "metadata": {},
     "execution_count": 57
    }
   ],
   "source": [
    "ints = [-9, 8, 2, -5, -7]\n",
    "ints = [5, -5, 8, 2, -2]\n",
    "closest_to_zero(ints)"
   ]
  },
  {
   "source": [
    "## Question 7"
   ],
   "cell_type": "markdown",
   "metadata": {}
  },
  {
   "cell_type": "code",
   "execution_count": 63,
   "metadata": {},
   "outputs": [],
   "source": [
    "def change(cash):\n",
    "    result = {'two': 0, 'five': 0, 'ten': 0}\n",
    "    notes = [10, 5, 2]\n",
    "    note_counter = [0, 0, 0]\n",
    "    cash_tmp = cash\n",
    "\n",
    "    for ind, i in enumerate(notes):\n",
    "        if cash_tmp >= i:\n",
    "            note_counter[ind] = cash_tmp // i\n",
    "            cash_tmp -= note_counter[ind] * i\n",
    "    \n",
    "    result['ten'] = note_counter[0]\n",
    "    result['five'] = note_counter[1]\n",
    "    result['two'] = note_counter[2]\n",
    "\n",
    "    if (cash_tmp != 0 or (result['two'] == 0) and (result['five'] == 0) and (result['ten'] == 0)):\n",
    "        return None\n",
    "    \n",
    "    return result"
   ]
  },
  {
   "cell_type": "code",
   "execution_count": 65,
   "metadata": {},
   "outputs": [
    {
     "output_type": "execute_result",
     "data": {
      "text/plain": [
       "{'two': 1, 'five': 0, 'ten': 10}"
      ]
     },
     "metadata": {},
     "execution_count": 65
    }
   ],
   "source": [
    "change(102)"
   ]
  },
  {
   "source": [
    "## Question 8"
   ],
   "cell_type": "markdown",
   "metadata": {}
  },
  {
   "cell_type": "code",
   "execution_count": 83,
   "metadata": {},
   "outputs": [],
   "source": [
    "def reshape(n, line):\n",
    "    word = \"\"\n",
    "    res = \"\"\n",
    "    for ind, ch in enumerate(line):\n",
    "        if ch == ' ':\n",
    "            continue\n",
    "        if len(word) < n:\n",
    "            word += ch\n",
    "        if len(word) == n:\n",
    "            if ind != len(line) - 1:\n",
    "                word += '\\n'\n",
    "            res += word\n",
    "            word = \"\"\n",
    "    res += word\n",
    "    return res"
   ]
  },
  {
   "cell_type": "code",
   "execution_count": 84,
   "metadata": {},
   "outputs": [
    {
     "output_type": "execute_result",
     "data": {
      "text/plain": [
       "'12\\n34\\n56'"
      ]
     },
     "metadata": {},
     "execution_count": 84
    }
   ],
   "source": [
    "reshape(3, \"abc de fghijkl mnop\")\n",
    "reshape(2, \"1 23 456\")"
   ]
  },
  {
   "source": [
    "## Question 9"
   ],
   "cell_type": "markdown",
   "metadata": {}
  },
  {
   "cell_type": "code",
   "execution_count": 87,
   "metadata": {},
   "outputs": [],
   "source": [
    "def is_twin(a, b):\n",
    "    a_tmp = a.lower()\n",
    "    b_tmp = b.lower()\n",
    "\n",
    "    for elt in a_tmp:\n",
    "        if elt in b_tmp:\n",
    "            b_tmp = b_tmp.replace(elt, '', 1)\n",
    "    return b_tmp == \"\""
   ]
  },
  {
   "cell_type": "code",
   "execution_count": 90,
   "metadata": {},
   "outputs": [
    {
     "output_type": "stream",
     "name": "stdout",
     "text": [
      "True\nTrue\n"
     ]
    }
   ],
   "source": [
    "print(is_twin(\"Marion\", \"Romain\"))\n",
    "print(is_twin(\"Lookout\", \"Outlook\"))"
   ]
  }
 ]
}