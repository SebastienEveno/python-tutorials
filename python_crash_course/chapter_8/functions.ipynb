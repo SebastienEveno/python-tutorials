{
 "metadata": {
  "language_info": {
   "codemirror_mode": {
    "name": "ipython",
    "version": 3
   },
   "file_extension": ".py",
   "mimetype": "text/x-python",
   "name": "python",
   "nbconvert_exporter": "python",
   "pygments_lexer": "ipython3",
   "version": "3.9.0-final"
  },
  "orig_nbformat": 2,
  "kernelspec": {
   "name": "python3",
   "display_name": "Python 3.9.0 64-bit",
   "metadata": {
    "interpreter": {
     "hash": "2740b07bebd5a9538dcad413d55b5f8f7bc0dae380b851836f69cf85491ff86f"
    }
   }
  }
 },
 "nbformat": 4,
 "nbformat_minor": 2,
 "cells": [
  {
   "cell_type": "code",
   "execution_count": 1,
   "metadata": {},
   "outputs": [],
   "source": [
    "def display_message():\n",
    "    \"\"\"Display a message.\"\"\"\n",
    "    print(\"Learning about functions.\")"
   ]
  },
  {
   "cell_type": "code",
   "execution_count": 7,
   "metadata": {},
   "outputs": [],
   "source": [
    "# T-shirt\n",
    "def make_shirt(shirt_size='large', msg='I love Python'):\n",
    "    \"\"\"Display shirt information.\"\"\"\n",
    "    print(f\"This t-shirt size is {shirt_size} and is written '{msg}' on it.\")"
   ]
  },
  {
   "cell_type": "code",
   "execution_count": 10,
   "metadata": {},
   "outputs": [
    {
     "output_type": "stream",
     "name": "stdout",
     "text": [
      "This t-shirt size is L and is written 'Hello' on it.\n"
     ]
    }
   ],
   "source": [
    "make_shirt('L', 'Hello')"
   ]
  },
  {
   "cell_type": "code",
   "execution_count": 17,
   "metadata": {},
   "outputs": [],
   "source": [
    "# City Names\n",
    "def city_country(city_name='', country_name=''):\n",
    "    if city_name and country_name:\n",
    "        print(f\"{city_name.title()}, {country_name.title()}\")\n",
    "    else:\n",
    "        print(\"Please provide missing city or country name.\")"
   ]
  },
  {
   "cell_type": "code",
   "execution_count": 16,
   "metadata": {},
   "outputs": [
    {
     "output_type": "stream",
     "name": "stdout",
     "text": [
      "Santiago, Chile\n"
     ]
    }
   ],
   "source": [
    "city_country('Santiago', 'chile')"
   ]
  },
  {
   "cell_type": "code",
   "execution_count": 25,
   "metadata": {},
   "outputs": [],
   "source": [
    "# Album\n",
    "def make_album(artist_name='', album_title='', songs_number=None):\n",
    "    \"\"\"Describes a music album.\"\"\"\n",
    "    music_album = {}\n",
    "    if artist_name:\n",
    "        music_album['Name'] = artist_name\n",
    "    if album_title:\n",
    "        music_album['Title'] = album_title\n",
    "    if songs_number:\n",
    "        music_album['# of songs'] = songs_number\n",
    "    return music_album"
   ]
  },
  {
   "cell_type": "code",
   "execution_count": 26,
   "metadata": {},
   "outputs": [
    {
     "output_type": "execute_result",
     "data": {
      "text/plain": [
       "{'Name': 'Eminem', 'Title': 'Test', '# of songs': 16}"
      ]
     },
     "metadata": {},
     "execution_count": 26
    }
   ],
   "source": [
    "make_album('Eminem', 'Test', 16)"
   ]
  },
  {
   "cell_type": "code",
   "execution_count": null,
   "metadata": {},
   "outputs": [],
   "source": [
    "# Messages\n"
   ]
  }
 ]
}