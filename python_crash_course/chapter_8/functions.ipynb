{
 "metadata": {
  "language_info": {
   "codemirror_mode": {
    "name": "ipython",
    "version": 3
   },
   "file_extension": ".py",
   "mimetype": "text/x-python",
   "name": "python",
   "nbconvert_exporter": "python",
   "pygments_lexer": "ipython3",
   "version": "3.9.0-final"
  },
  "orig_nbformat": 2,
  "kernelspec": {
   "name": "python3",
   "display_name": "Python 3.9.0 64-bit",
   "metadata": {
    "interpreter": {
     "hash": "2740b07bebd5a9538dcad413d55b5f8f7bc0dae380b851836f69cf85491ff86f"
    }
   }
  }
 },
 "nbformat": 4,
 "nbformat_minor": 2,
 "cells": [
  {
   "cell_type": "code",
   "execution_count": 5,
   "metadata": {},
   "outputs": [
    {
     "output_type": "stream",
     "name": "stdout",
     "text": [
      "The sandwich is being ordered with the following:\n-salad\n-tomato\n-chicken\n-mayo\n"
     ]
    }
   ],
   "source": [
    "# Sandwiches\n",
    "def sandwich_items(*items):\n",
    "    print(\"The sandwich is being ordered with the following:\")\n",
    "    for item in items:\n",
    "        print(f\"-{item}\")\n",
    "sandwich_items('salad','tomato', 'chicken', 'mayo')"
   ]
  },
  {
   "cell_type": "code",
   "execution_count": 7,
   "metadata": {},
   "outputs": [
    {
     "output_type": "stream",
     "name": "stdout",
     "text": [
      "color, blue\ntow_package, True\n"
     ]
    }
   ],
   "source": [
    "# Cars\n",
    "def make_car(manufacturer, model_name, **kwargs):\n",
    "    for k, v in kwargs.items():\n",
    "        print(f\"{k}, {v}\")\n",
    "make_car('subaru', 'outback', color='blue', tow_package=True)"
   ]
  },
  {
   "cell_type": "code",
   "execution_count": null,
   "metadata": {},
   "outputs": [],
   "source": [
    "# Printing models\n"
   ]
  }
 ]
}