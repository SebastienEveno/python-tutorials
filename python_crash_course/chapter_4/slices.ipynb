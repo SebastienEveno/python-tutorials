{
 "metadata": {
  "language_info": {
   "codemirror_mode": {
    "name": "ipython",
    "version": 3
   },
   "file_extension": ".py",
   "mimetype": "text/x-python",
   "name": "python",
   "nbconvert_exporter": "python",
   "pygments_lexer": "ipython3",
   "version": "3.9.0-final"
  },
  "orig_nbformat": 2,
  "kernelspec": {
   "name": "python3",
   "display_name": "Python 3.9.0 64-bit",
   "metadata": {
    "interpreter": {
     "hash": "2740b07bebd5a9538dcad413d55b5f8f7bc0dae380b851836f69cf85491ff86f"
    }
   }
  }
 },
 "nbformat": 4,
 "nbformat_minor": 2,
 "cells": [
  {
   "source": [
    "foods = ['pizza', 'falafel', 'carrot cake', 'cannoli', 'ice cream']"
   ],
   "cell_type": "code",
   "metadata": {},
   "execution_count": 21,
   "outputs": []
  },
  {
   "cell_type": "code",
   "execution_count": 5,
   "metadata": {},
   "outputs": [
    {
     "output_type": "stream",
     "name": "stdout",
     "text": [
      "The first three items in the list are: pizza, falafel and carrot cake.\n"
     ]
    }
   ],
   "source": [
    "print(f\"The first three items in the list are: {foods[0]}, {foods[1]} and {foods[2]}.\")"
   ]
  },
  {
   "cell_type": "code",
   "execution_count": 7,
   "metadata": {},
   "outputs": [
    {
     "output_type": "stream",
     "name": "stdout",
     "text": [
      "['pizza', 'falafel', 'carrot cake']\n"
     ]
    }
   ],
   "source": [
    "print(foods[:3])"
   ]
  },
  {
   "cell_type": "code",
   "execution_count": 11,
   "metadata": {},
   "outputs": [
    {
     "output_type": "stream",
     "name": "stdout",
     "text": [
      "Three items from the middle of the list are:\n['falafel', 'carrot cake', 'cannoli']\n"
     ]
    }
   ],
   "source": [
    "print(\"Three items from the middle of the list are:\")\n",
    "print(foods[1:-1])"
   ]
  },
  {
   "cell_type": "code",
   "execution_count": 14,
   "metadata": {},
   "outputs": [
    {
     "output_type": "stream",
     "name": "stdout",
     "text": [
      "The last three items in the list are:\n['carrot cake', 'cannoli', 'ice cream']\n"
     ]
    }
   ],
   "source": [
    "print(\"The last three items in the list are:\")\n",
    "print(foods[-3:])"
   ]
  },
  {
   "cell_type": "code",
   "execution_count": 22,
   "metadata": {},
   "outputs": [],
   "source": [
    "friend_foods = foods[:]\n",
    "foods.append('pasta')\n",
    "friend_foods.append('eclair')"
   ]
  },
  {
   "cell_type": "code",
   "execution_count": 27,
   "metadata": {},
   "outputs": [
    {
     "output_type": "stream",
     "name": "stdout",
     "text": [
      "My favorite foods are:\npizza\nfalafel\ncarrot cake\ncannoli\nice cream\npasta\nMy friend's favourite foods are:\npizza\nfalafel\ncarrot cake\ncannoli\nice cream\neclair\n"
     ]
    }
   ],
   "source": [
    "print(\"My favorite foods are:\")\n",
    "for food in foods:\n",
    "    print(food)\n",
    "print(\"My friend's favourite foods are:\")\n",
    "for food in friend_foods:\n",
    "    print(food)"
   ]
  },
  {
   "cell_type": "code",
   "execution_count": 31,
   "metadata": {},
   "outputs": [
    {
     "output_type": "stream",
     "name": "stdout",
     "text": [
      "pizza\nfalafel\ncarrot cake\ncannoli\nice cream\npizza\nfalafel\ncarrot cake\npasta\ncarbonara\n"
     ]
    }
   ],
   "source": [
    "foods_t = ('pizza', 'falafel', 'carrot cake', 'cannoli', 'ice cream')\n",
    "for elt in foods_t:\n",
    "    print(elt)\n",
    "foods_t = ('pizza', 'falafel', 'carrot cake', 'pasta', 'carbonara')\n",
    "for elt in foods_t:\n",
    "    print(elt)"
   ]
  }
 ]
}