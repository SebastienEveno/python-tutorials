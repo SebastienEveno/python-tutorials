{
 "metadata": {
  "language_info": {
   "codemirror_mode": {
    "name": "ipython",
    "version": 3
   },
   "file_extension": ".py",
   "mimetype": "text/x-python",
   "name": "python",
   "nbconvert_exporter": "python",
   "pygments_lexer": "ipython3",
   "version": "3.9.0-final"
  },
  "orig_nbformat": 2,
  "kernelspec": {
   "name": "python3",
   "display_name": "Python 3.9.0 64-bit",
   "metadata": {
    "interpreter": {
     "hash": "2740b07bebd5a9538dcad413d55b5f8f7bc0dae380b851836f69cf85491ff86f"
    }
   }
  }
 },
 "nbformat": 4,
 "nbformat_minor": 2,
 "cells": [
  {
   "cell_type": "code",
   "execution_count": 4,
   "metadata": {},
   "outputs": [],
   "source": [
    "someone = {\n",
    "    'first_name': 'elon',\n",
    "    'last_name': 'musk',\n",
    "    'age': 49,\n",
    "    'location': 'Los Angeles'\n",
    "}"
   ]
  },
  {
   "cell_type": "code",
   "execution_count": 7,
   "metadata": {},
   "outputs": [
    {
     "output_type": "execute_result",
     "data": {
      "text/plain": [
       "dict_items([('first_name', 'elon'), ('last_name', 'musk'), ('age', 45), ('city', 'Los Angeles')])"
      ]
     },
     "metadata": {},
     "execution_count": 7
    }
   ],
   "source": [
    "someone.items()"
   ]
  },
  {
   "cell_type": "code",
   "execution_count": 12,
   "metadata": {},
   "outputs": [
    {
     "output_type": "execute_result",
     "data": {
      "text/plain": [
       "dict_keys(['first_name', 'last_name', 'age', 'city'])"
      ]
     },
     "metadata": {},
     "execution_count": 12
    }
   ],
   "source": [
    "someone.keys()"
   ]
  },
  {
   "cell_type": "code",
   "execution_count": 22,
   "metadata": {},
   "outputs": [
    {
     "output_type": "stream",
     "name": "stdout",
     "text": [
      "The Nile runs through Egypt.\nThe Seine runs through France.\nThe Rhones runs through France.\nNile\nSeine\nRhones\nEgypt\nFrance\nFrance\n"
     ]
    }
   ],
   "source": [
    "# Rivers\n",
    "rivers = {'nile':'egypt', 'seine':'france', 'rhones':'france'}\n",
    "if rivers:\n",
    "    for k, v in rivers.items():\n",
    "        print(f\"The {k.title()} runs through {v.title()}.\")\n",
    "for river in rivers.keys():\n",
    "    print(river.title())\n",
    "for country in rivers.values():\n",
    "    print(country.title())"
   ]
  },
  {
   "cell_type": "code",
   "execution_count": 32,
   "metadata": {},
   "outputs": [],
   "source": [
    "# Make an empty list for storing aliens.\n",
    "aliens = []\n",
    "for alien in range(0, 30):\n",
    "    aliens.append({'color': 'green', 'points': 5, 'speed': 'slow'})"
   ]
  },
  {
   "cell_type": "code",
   "execution_count": 38,
   "metadata": {},
   "outputs": [
    {
     "output_type": "stream",
     "name": "stdout",
     "text": [
      "Elon Musk is 49 and lives in Los Angeles.\nBrad Pitt is 56 and lives in Los Angeles.\nJean Dujardin is 48 and lives in Rueil-Malmaison.\n"
     ]
    }
   ],
   "source": [
    "people = [\n",
    "    {\n",
    "    'first_name': 'elon',\n",
    "    'last_name': 'musk',\n",
    "    'age': 49,\n",
    "    'location': 'Los Angeles'\n",
    "    },\n",
    "    {\n",
    "        'first_name': 'brad',\n",
    "        'last_name': 'pitt',\n",
    "        'age': 56,\n",
    "        'location': 'Los Angeles'\n",
    "    },\n",
    "    {\n",
    "        'first_name': 'jean',\n",
    "        'last_name': 'dujardin',\n",
    "        'age': 48,\n",
    "        'location': 'rueil-malmaison'\n",
    "    }\n",
    "]\n",
    "for ppl in people:\n",
    "    print(f\"{ppl['first_name'].title()} {ppl['last_name'].title()} is {ppl['age']} and lives in {ppl['location'].title()}.\")"
   ]
  }
 ]
}