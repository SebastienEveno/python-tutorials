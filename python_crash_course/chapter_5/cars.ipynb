{
 "metadata": {
  "language_info": {
   "codemirror_mode": {
    "name": "ipython",
    "version": 3
   },
   "file_extension": ".py",
   "mimetype": "text/x-python",
   "name": "python",
   "nbconvert_exporter": "python",
   "pygments_lexer": "ipython3",
   "version": "3.9.0-final"
  },
  "orig_nbformat": 2,
  "kernelspec": {
   "name": "python3",
   "display_name": "Python 3.9.0 64-bit",
   "metadata": {
    "interpreter": {
     "hash": "2740b07bebd5a9538dcad413d55b5f8f7bc0dae380b851836f69cf85491ff86f"
    }
   }
  }
 },
 "nbformat": 4,
 "nbformat_minor": 2,
 "cells": [
  {
   "cell_type": "code",
   "execution_count": 1,
   "metadata": {},
   "outputs": [],
   "source": [
    "cars =  ['audi', 'bmw', 'subaru', 'toyota']"
   ]
  },
  {
   "cell_type": "code",
   "execution_count": 12,
   "metadata": {},
   "outputs": [
    {
     "output_type": "stream",
     "name": "stdout",
     "text": [
      "Audi\nBMW\nSubaru\nToyota\n"
     ]
    }
   ],
   "source": [
    "for car in cars:\n",
    "    if car == 'bmw':\n",
    "        print(car.upper())\n",
    "    else:\n",
    "        print(car.title())"
   ]
  },
  {
   "cell_type": "code",
   "execution_count": 14,
   "metadata": {},
   "outputs": [
    {
     "output_type": "execute_result",
     "data": {
      "text/plain": [
       "True"
      ]
     },
     "metadata": {},
     "execution_count": 14
    }
   ],
   "source": [
    "requested_toppings = ['mushrooms', 'onions', 'pineapple']\n",
    "'mushrooms' in requested_toppings"
   ]
  },
  {
   "cell_type": "code",
   "execution_count": 16,
   "metadata": {},
   "outputs": [
    {
     "output_type": "stream",
     "name": "stdout",
     "text": [
      "Marie\n"
     ]
    }
   ],
   "source": [
    "banned_users = ['andrew', 'carolina', 'david']\n",
    "user = 'marie'\n",
    "if user not in banned_users:\n",
    "    print(user.title())"
   ]
  },
  {
   "cell_type": "code",
   "execution_count": 20,
   "metadata": {},
   "outputs": [
    {
     "output_type": "stream",
     "name": "stdout",
     "text": [
      "You just earned 10 points!\n"
     ]
    }
   ],
   "source": [
    "alien_color = 'red'\n",
    "if alien_color == 'green':\n",
    "    print(\"You just earned 5 points!\")\n",
    "else:\n",
    "    print(\"You just earned 10 points!\")"
   ]
  },
  {
   "cell_type": "code",
   "execution_count": 23,
   "metadata": {},
   "outputs": [
    {
     "output_type": "stream",
     "name": "stdout",
     "text": [
      "You are an adult\n"
     ]
    }
   ],
   "source": [
    "# Stages of Life\n",
    "age = 41\n",
    "if age < 2:\n",
    "    print(\"You are a baby\")\n",
    "elif age < 4:\n",
    "    print(\"You are a toddler\")\n",
    "elif age < 13:\n",
    "    print(\"You are a kid\")\n",
    "elif age < 20:\n",
    "    print(\"You are a teenager\")\n",
    "elif age < 65:\n",
    "    print(\"You are an adult\")\n",
    "else:\n",
    "    # age >= 65\n",
    "    print(\"You are an elder\")"
   ]
  },
  {
   "cell_type": "code",
   "execution_count": 30,
   "metadata": {},
   "outputs": [
    {
     "output_type": "stream",
     "name": "stdout",
     "text": [
      "Hello admin, would you like to see a status report?\nHello sebastien, thank you for logging in again.\nHello john, thank you for logging in again.\nHello elon, thank you for logging in again.\nHello jeff, thank you for logging in again.\n"
     ]
    }
   ],
   "source": [
    "# Hello Admin\n",
    "usernames = ['admin', 'sebastien', 'john', 'elon', 'jeff']\n",
    "if usernames: # test if list is not empty\n",
    "    for user in usernames:\n",
    "        if user == 'admin':\n",
    "            print(f\"Hello {user}, would you like to see a status report?\")\n",
    "        else:\n",
    "            print(f\"Hello {user}, thank you for logging in again.\")\n",
    "else:\n",
    "    print(\"We need to find some users!\")"
   ]
  },
  {
   "cell_type": "code",
   "execution_count": 38,
   "metadata": {},
   "outputs": [
    {
     "output_type": "stream",
     "name": "stdout",
     "text": [
      "This username is already used. Please enter a another username.\nThis username is already used. Please enter a another username.\nThis username is available.\nThis username is available.\nThis username is available.\n"
     ]
    }
   ],
   "source": [
    "# Checking usernames\n",
    "current_users = ['admin', 'sebastien', 'John', 'elon', 'jeff']\n",
    "new_users = ['JOHN', 'elon', 'baptiste', 'david', 'michael']\n",
    "if new_users:\n",
    "    for new_user in new_users:\n",
    "        if new_user.lower() in [user.lower() for user in current_users]:\n",
    "            print(f\"This username is already used. Please enter a another username.\")\n",
    "        else:\n",
    "            print(f\"This username is available.\")"
   ]
  },
  {
   "cell_type": "code",
   "execution_count": 41,
   "metadata": {},
   "outputs": [
    {
     "output_type": "stream",
     "name": "stdout",
     "text": [
      "[1, 2, 3, 4, 5, 6, 7, 8, 9]\n1st\n2nd\n3rd\n4th\n5th\n6th\n7th\n8th\n9th\n"
     ]
    }
   ],
   "source": [
    "# Ordinal numbers\n",
    "numbers = [i for i in range(1, 10)]\n",
    "print(numbers)\n",
    "if numbers:\n",
    "    for elt in numbers:\n",
    "        if elt == 1:\n",
    "            print(\"1st\")\n",
    "        elif elt == 2:\n",
    "            print(\"2nd\")\n",
    "        elif elt == 3:\n",
    "            print(\"3rd\")\n",
    "        else:\n",
    "            print(str(elt) + \"th\")"
   ]
  }
 ]
}