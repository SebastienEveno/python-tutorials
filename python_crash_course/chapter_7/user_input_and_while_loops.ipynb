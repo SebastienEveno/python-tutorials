{
 "metadata": {
  "language_info": {
   "codemirror_mode": {
    "name": "ipython",
    "version": 3
   },
   "file_extension": ".py",
   "mimetype": "text/x-python",
   "name": "python",
   "nbconvert_exporter": "python",
   "pygments_lexer": "ipython3",
   "version": "3.9.0-final"
  },
  "orig_nbformat": 2,
  "kernelspec": {
   "name": "python3",
   "display_name": "Python 3.9.0 64-bit",
   "metadata": {
    "interpreter": {
     "hash": "2740b07bebd5a9538dcad413d55b5f8f7bc0dae380b851836f69cf85491ff86f"
    }
   }
  }
 },
 "nbformat": 4,
 "nbformat_minor": 2,
 "cells": [
  {
   "cell_type": "code",
   "execution_count": 2,
   "metadata": {},
   "outputs": [
    {
     "output_type": "stream",
     "name": "stdout",
     "text": [
      "6\n"
     ]
    }
   ],
   "source": [
    "message = input(\"Please enter your name: \")\n",
    "print(message)"
   ]
  },
  {
   "cell_type": "code",
   "execution_count": 9,
   "metadata": {},
   "outputs": [
    {
     "output_type": "stream",
     "name": "stdout",
     "text": [
      "Let me add cheese to your pizza.\n",
      "Done!\n",
      "Let me add mushrooms to your pizza.\n",
      "Done!\n"
     ]
    },
    {
     "output_type": "execute_result",
     "data": {
      "text/plain": [
       "['cheese', 'mushrooms']"
      ]
     },
     "metadata": {},
     "execution_count": 9
    }
   ],
   "source": [
    "# Pizza toppings\n",
    "toppings = []\n",
    "while True:\n",
    "    topping = input(\"Please enter a pizza topping. Write 'exit' to stop. \")\n",
    "    if topping == 'exit':\n",
    "        break\n",
    "    else:\n",
    "        toppings.append(topping)\n",
    "        print(f\"Let me add {topping} to your pizza.\")\n",
    "        print(\"Done!\")"
   ]
  },
  {
   "cell_type": "code",
   "execution_count": 12,
   "metadata": {},
   "outputs": [
    {
     "output_type": "stream",
     "name": "stdout",
     "text": [
      "The Deli has run out of pastrami.\n['tuna', 'bacon', 'bagel', 'breakfast', 'cheese', 'chicken', 'chicken salad', 'club']\nI made your club sandwich.\nI made your chicken salad sandwich.\nI made your chicken sandwich.\nI made your cheese sandwich.\nI made your breakfast sandwich.\nI made your bagel sandwich.\nI made your bacon sandwich.\nI made your tuna sandwich.\n\nI made the following sandwiches:\nclub\nchicken salad\nchicken\ncheese\nbreakfast\nbagel\nbacon\ntuna\n"
     ]
    }
   ],
   "source": [
    "# Deli\n",
    "sandwich_orders = ['tuna', 'pastrami', 'bacon', 'bagel', 'breakfast', 'pastrami', 'cheese', 'chicken', 'chicken salad', 'club', 'pastrami']\n",
    "finished_sandwiches = []\n",
    "\n",
    "## Deli is running out of Pastrami sandwiches\n",
    "print(\"The Deli has run out of pastrami.\")\n",
    "while 'pastrami' in sandwich_orders:\n",
    "    sandwich_orders.remove('pastrami')\n",
    "\n",
    "while sandwich_orders:\n",
    "    current_sandwich = sandwich_orders.pop()\n",
    "    print(f\"I made your {current_sandwich} sandwich.\")\n",
    "    finished_sandwiches.append(current_sandwich)\n",
    "print(\"\\nI made the following sandwiches:\")\n",
    "for elt in finished_sandwiches:\n",
    "    print(elt)"
   ]
  },
  {
   "cell_type": "code",
   "execution_count": null,
   "metadata": {},
   "outputs": [],
   "source": []
  }
 ]
}